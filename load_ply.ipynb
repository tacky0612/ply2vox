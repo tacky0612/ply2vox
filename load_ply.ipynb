{
 "cells": [
  {
   "cell_type": "code",
   "execution_count": 1,
   "metadata": {},
   "outputs": [],
   "source": [
    "import numpy as np"
   ]
  },
  {
   "cell_type": "code",
   "execution_count": 2,
   "metadata": {},
   "outputs": [],
   "source": [
    "def  load_ply(filename):\n",
    "    with open(filename, \"r\") as f: \n",
    "        data = f.readlines()\n",
    "        \n",
    "    #３D座標のはじまりの位置を取得\n",
    "    for i in range(len(data)):\n",
    "        #ヘッダーの終わり判定\n",
    "        if \"end_header\" in data[i]:\n",
    "            start = i\n",
    "        #３Dの終わり判定（雑）\n",
    "        if data[i][0]== \"3\"and data[i][1]== \" \" :\n",
    "            end = i\n",
    "            break\n",
    "\n",
    "    start += 1\n",
    "\n",
    "\n",
    "    #３D座標を配列に\n",
    "    ply = []\n",
    "    for i in range(end-start):\n",
    "        i =  i + start\n",
    "        a = data[i].split(\" \")\n",
    "        x = [a[0],a[1],a[2]]\n",
    "        ply.append(x)\n",
    "    ply = np.array(ply).astype(np.float32)\n",
    "\n",
    "    return ply"
   ]
  },
  {
   "cell_type": "code",
   "execution_count": null,
   "metadata": {},
   "outputs": [],
   "source": []
  }
 ],
 "metadata": {
  "kernelspec": {
   "display_name": "Python 3",
   "language": "python",
   "name": "python3"
  },
  "language_info": {
   "codemirror_mode": {
    "name": "ipython",
    "version": 3
   },
   "file_extension": ".py",
   "mimetype": "text/x-python",
   "name": "python",
   "nbconvert_exporter": "python",
   "pygments_lexer": "ipython3",
   "version": "3.6.5"
  }
 },
 "nbformat": 4,
 "nbformat_minor": 2
}
