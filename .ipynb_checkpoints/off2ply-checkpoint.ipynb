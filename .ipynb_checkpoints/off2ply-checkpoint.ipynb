{
 "cells": [
  {
   "cell_type": "code",
   "execution_count": 1,
   "metadata": {},
   "outputs": [],
   "source": [
    "# coding: UTF-8"
   ]
  },
  {
   "cell_type": "code",
   "execution_count": 2,
   "metadata": {},
   "outputs": [],
   "source": [
    "import sys\n",
    "import math\n",
    "import random"
   ]
  },
  {
   "cell_type": "code",
   "execution_count": 3,
   "metadata": {},
   "outputs": [],
   "source": [
    "def load_off(filename):\n",
    "    # read OFF file\n",
    "    with open(filename,\"r\") as handle:\n",
    "        off = handle.read().rstrip().split(\"\\n\")\n",
    "\n",
    "    #get params and faces\n",
    "    params = list(map(int, off[1].split(\" \")))\n",
    "    n_vertices = params[0]\n",
    "    n_faces = params[1]\n",
    "\n",
    "    # read  Vertex coordinates\n",
    "    vertices = []\n",
    "    for n in range(n_vertices):\n",
    "        coords = list(map(float, off[2+n].split()))\n",
    "        vertices.append(coords)\n",
    "\n",
    "    # read information of faces\n",
    "    faces = []\n",
    "    for n in range(n_faces):\n",
    "        connects = list(map(int, off[2 + n_vertices + n].split(\" \")))[1:]\n",
    "        faces.append(connects)\n",
    "\n",
    "    return vertices, faces"
   ]
  },
  {
   "cell_type": "markdown",
   "metadata": {},
   "source": [
    "$$\n",
    "S = \\frac{1}{2} |(c-a)\\times(b-a) |\n",
    "$$\n"
   ]
  },
  {
   "cell_type": "code",
   "execution_count": 4,
   "metadata": {},
   "outputs": [],
   "source": [
    "def calc_vector_norm(a):\n",
    "    norm = 0.0\n",
    "    for el in a:\n",
    "        norm += el *el\n",
    "    return math.sqrt(norm)"
   ]
  },
  {
   "cell_type": "code",
   "execution_count": 5,
   "metadata": {},
   "outputs": [],
   "source": [
    "def calc_cross_product_3d(a,b):\n",
    "    return [a[1]*b[2]-a[2]*b[1], a[2]*b[0]-a[0]*b[2],a[0]*b[1]-a[1]*b[0]]"
   ]
  },
  {
   "cell_type": "code",
   "execution_count": 6,
   "metadata": {},
   "outputs": [],
   "source": [
    "def calc_triangle_area(a, b, c):\n",
    "    ca = [c[0]-a[0], c[1]-a[1], c[2]-a[2]]\n",
    "    ba = [b[0]-a[0], b[1]-a[1], b[2]-a[2]]\n",
    "    cross = calc_cross_product_3d(ca, ba)\n",
    "    return 0.5 * calc_vector_norm(cross)"
   ]
  },
  {
   "cell_type": "code",
   "execution_count": 7,
   "metadata": {},
   "outputs": [],
   "source": [
    "def calc_cumulative_areas(vertices, faces):\n",
    "    cuma = 0.0\n",
    "    cum_areas = []\n",
    "    for fc in faces:\n",
    "        cuma += calc_triangle_area(\n",
    "            vertices[fc[0]], vertices[fc[1]], vertices[fc[2]])\n",
    "        cum_areas.append(cuma)\n",
    "    return cum_areas"
   ]
  },
  {
   "cell_type": "code",
   "execution_count": 8,
   "metadata": {},
   "outputs": [],
   "source": [
    "def random_select_face_id(cum_areas):\n",
    "    rand_area = cum_areas[-1] * random.random()\n",
    "    select_id = 0\n",
    "    for n in range(len(cum_areas)):\n",
    "        if rand_area <= cum_areas[n]:\n",
    "            select_id = n\n",
    "            break\n",
    "    return select_id"
   ]
  },
  {
   "cell_type": "code",
   "execution_count": 9,
   "metadata": {},
   "outputs": [],
   "source": [
    "def gen_random_points(vertices, faces, n_points):\n",
    "    cum_areas = calc_cumulative_areas(vertices, faces)\n",
    "    points = []\n",
    "    for n in range(n_points):\n",
    "        fid = random_select_face_id(cum_areas)\n",
    "        r1 = math.sqrt(random.random())\n",
    "        r2 = random.random()\n",
    "        a = vertices[faces[fid][0]]\n",
    "        b = vertices[faces[fid][1]]\n",
    "        c = vertices[faces[fid][2]]\n",
    "        xp = (1 - r1) * a[0] + r1 * (1 - r2) * b[0] + r1 * r2 * c[0]\n",
    "        yp = (1 - r1) * a[1] + r1 * (1 - r2) * b[1] + r1 * r2 * c[1]\n",
    "        zp = (1 - r1) * a[2] + r1 * (1 - r2) * b[2] + r1 * r2 * c[2]\n",
    "        points.append([xp, yp, zp])\n",
    "    return points"
   ]
  },
  {
   "cell_type": "code",
   "execution_count": 10,
   "metadata": {},
   "outputs": [],
   "source": [
    "def print_pointcloud_ply(points):\n",
    "    print(\"ply\")\n",
    "    print(\"format ascii 1.0\")\n",
    "    print(\"element vertex %d\" % len(points))\n",
    "    print(\"property float x\")\n",
    "    print(\"property float y\")\n",
    "    print(\"property float z\")\n",
    "    print(\"end_header\")\n",
    "    for pt in points:\n",
    "        print(\"%f %f %f\" % (pt[0], pt[1], pt[2]))"
   ]
  },
  {
   "cell_type": "code",
   "execution_count": 14,
   "metadata": {},
   "outputs": [],
   "source": [
    "def write_pointcloud_ply(filename,points):\n",
    "    f = open(filename, 'w') \n",
    "    f.write(\"ply\\n\")\n",
    "    f.write(\"format ascii 1.0\\n\")\n",
    "    f.write(\"element vertex %d\\n\" % len(points))\n",
    "    f.write(\"property float x\\n\")\n",
    "    f.write(\"property float y\\n\")\n",
    "    f.write(\"property float z\\n\")\n",
    "    f.write(\"end_header\\n\")\n",
    "    f.write(\"3 \\n\")\n",
    "    for pt in points:\n",
    "        f.write(\"%f %f %f \\n\" % (pt[0], pt[1], pt[2]))\n",
    "    f.close"
   ]
  },
  {
   "cell_type": "code",
   "execution_count": 17,
   "metadata": {},
   "outputs": [
    {
     "name": "stdout",
     "output_type": "stream",
     "text": [
      "OFFファイルを指定してください　※.off　は省略する\n",
      "bathtub_0107\n"
     ]
    }
   ],
   "source": [
    "print(\"OFFファイルを指定してください　※.off　は省略する\")\n",
    "filename = input()"
   ]
  },
  {
   "cell_type": "code",
   "execution_count": 18,
   "metadata": {},
   "outputs": [],
   "source": [
    "vertices, faces = load_off(filename+\".off\")\n",
    "n_points = 16384\n",
    "points = gen_random_points(vertices, faces, n_points)\n",
    "write_pointcloud_ply(filename+\".ply\",points)"
   ]
  },
  {
   "cell_type": "code",
   "execution_count": null,
   "metadata": {},
   "outputs": [],
   "source": [
    "#Please use the following program when running as a script."
   ]
  },
  {
   "cell_type": "code",
   "execution_count": 14,
   "metadata": {
    "collapsed": true
   },
   "outputs": [],
   "source": [
    "# def main():\n",
    "#     vertices, faces = load_off(sys.argv[1])\n",
    "#     n_points = 1024 #The more points becomes, the finer it becomes\n",
    "#     points = gen_random_points(vertices, faces, n_points)\n",
    "#     print_pointcloud_ply(points)"
   ]
  },
  {
   "cell_type": "code",
   "execution_count": 15,
   "metadata": {
    "scrolled": true
   },
   "outputs": [],
   "source": [
    "# if __name__ == \"__main__\":\n",
    "#     main()"
   ]
  },
  {
   "cell_type": "code",
   "execution_count": null,
   "metadata": {
    "collapsed": true
   },
   "outputs": [],
   "source": []
  },
  {
   "cell_type": "code",
   "execution_count": null,
   "metadata": {
    "collapsed": true
   },
   "outputs": [],
   "source": []
  }
 ],
 "metadata": {
  "kernelspec": {
   "display_name": "Python 3",
   "language": "python",
   "name": "python3"
  },
  "language_info": {
   "codemirror_mode": {
    "name": "ipython",
    "version": 3
   },
   "file_extension": ".py",
   "mimetype": "text/x-python",
   "name": "python",
   "nbconvert_exporter": "python",
   "pygments_lexer": "ipython3",
   "version": "3.6.5"
  }
 },
 "nbformat": 4,
 "nbformat_minor": 2
}
