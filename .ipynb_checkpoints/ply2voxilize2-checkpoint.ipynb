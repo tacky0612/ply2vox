{
 "cells": [
  {
   "cell_type": "code",
   "execution_count": 2,
   "metadata": {},
   "outputs": [],
   "source": [
    "import numpy as np\n",
    "import random\n",
    "from load_ply import load_ply"
   ]
  },
  {
   "cell_type": "code",
   "execution_count": 3,
   "metadata": {},
   "outputs": [],
   "source": [
    "def voxilize(np_pc):\n",
    "\n",
    "    max_dist = 0.0\n",
    "    for it in range(0,3):\n",
    "        # 最大値と最小値の距離を求める\n",
    "        min = np.amin(np_pc[:,it])\n",
    "        max = np.amax(np_pc[:,it])\n",
    "        dist = max-min\n",
    "\n",
    "        #xyzで一番並行距離が大きいのを求める\n",
    "        if dist > max_dist:\n",
    "            max_dist = dist\n",
    "\n",
    "        #中心座標を 0,0,0にセットする（原点が中心にくるようにする）\n",
    "        np_pc[:,it] = np_pc[:,it] - dist/2 - min\n",
    "\n",
    "        #covered cells\n",
    "        cls = 29\n",
    "\n",
    "        #ボクセル一個当たりのサイズを求める\n",
    "        vox_sz = dist/(cls-1)\n",
    "\n",
    "        #上で算出した値で各点を割る。これで各点は(-14, 14)の範囲の値になる\n",
    "        np_pc[:,it] = np_pc[:,it]/vox_sz\n",
    "\n",
    "        #各点が全て正の整数になるよう移動。これで各点は[0, 30]になる（多分）\n",
    "        np_pc[:,it] = np_pc[:,it] + (cls-1)/2\n",
    "\n",
    "\n",
    "    #整数にする\n",
    "    np_pc = np.rint(np_pc).astype(np.uint32)\n",
    "\n",
    "\n",
    "    #３０＊３０＊３０の配列を作り，点が存在する場合は1、存在しない場合は0を入力する。\n",
    "    vox = np.zeros([30,30,30])\n",
    "\n",
    "    # (pc_x, pc_y, pc_z)にnp_pcの座標を代入する\n",
    "    for (pc_x, pc_y, pc_z) in np_pc:\n",
    "\n",
    "    # 点が存在しても20%の確率で0とし、データにノイズを加え、汎用性を上げている\n",
    "    # ここ，ノイジーなデータの場合８０よりも小さい数字にしたほうがいいかもね？\n",
    "        if random.randint(0,100) < 80:\n",
    "            vox[pc_x, pc_y, pc_z] = 1\n",
    "\n",
    "    np_vox = np.zeros([1,1,32,32,32])\n",
    "    np_vox[0, 0, 1:-1, 1:-1, 1:-1] = vox\n",
    "\n",
    "    return np_vox"
   ]
  },
  {
   "cell_type": "code",
   "execution_count": 4,
   "metadata": {},
   "outputs": [],
   "source": [
    "def voxel_scatter(np_vox):\n",
    "\n",
    "    #空の配列を作る\n",
    "    vox_scat = np.zeros([0,3], dtype= np.uint32)\n",
    "\n",
    "    #32回\n",
    "    for x in range(0,np_vox.shape[2]):\n",
    "        #32回\n",
    "        for y in range(0,np_vox.shape[3]):\n",
    "            #32回\n",
    "            for z in range(0,np_vox.shape[4]):\n",
    "                #（ｘ，ｙ，ｚ）に１が入っていればその座標を返す\n",
    "                if np_vox[0,0,x,y,z] == 1.0:\n",
    "                    arr_tmp = np.zeros([1,3],dtype=np.uint32)\n",
    "                    arr_tmp[0,:] = (x,y,z)\n",
    "                    vox_scat = np.concatenate((vox_scat,arr_tmp))\n",
    "    return vox_scat"
   ]
  },
  {
   "cell_type": "code",
   "execution_count": 5,
   "metadata": {},
   "outputs": [],
   "source": [
    "def plot_trihedral_figure(np_pc):\n",
    "    #三面図\n",
    "    a = 1\n",
    "    for i in range(3):\n",
    "        if i == 2:\n",
    "            a = -2\n",
    "        plt.scatter(np_pc[:,i],np_pc[:,i+a],s=2)\n",
    "        plt.axis('equal')\n",
    "        plt.show()"
   ]
  },
  {
   "cell_type": "code",
   "execution_count": 6,
   "metadata": {},
   "outputs": [
    {
     "ename": "NameError",
     "evalue": "name 'np_pc' is not defined",
     "output_type": "error",
     "traceback": [
      "\u001b[0;31m---------------------------------------------------------------------------\u001b[0m",
      "\u001b[0;31mNameError\u001b[0m                                 Traceback (most recent call last)",
      "\u001b[0;32m<ipython-input-6-bf01019ce29e>\u001b[0m in \u001b[0;36m<module>\u001b[0;34m()\u001b[0m\n\u001b[1;32m      1\u001b[0m \u001b[0ma\u001b[0m \u001b[0;34m=\u001b[0m \u001b[0mload_ply\u001b[0m\u001b[0;34m(\u001b[0m\u001b[0;34m\"bathtub_0107.ply\"\u001b[0m\u001b[0;34m)\u001b[0m\u001b[0;34m\u001b[0m\u001b[0m\n\u001b[0;32m----> 2\u001b[0;31m \u001b[0ma\u001b[0m \u001b[0;34m=\u001b[0m \u001b[0mvoxilize\u001b[0m\u001b[0;34m(\u001b[0m\u001b[0mnp_pc\u001b[0m\u001b[0;34m)\u001b[0m\u001b[0;34m\u001b[0m\u001b[0m\n\u001b[0m\u001b[1;32m      3\u001b[0m \u001b[0ma\u001b[0m \u001b[0;34m=\u001b[0m \u001b[0mvoxel_scatter\u001b[0m\u001b[0;34m(\u001b[0m\u001b[0ma\u001b[0m\u001b[0;34m)\u001b[0m\u001b[0;34m\u001b[0m\u001b[0m\n\u001b[1;32m      4\u001b[0m \u001b[0mplot_trihedral_figure\u001b[0m\u001b[0;34m(\u001b[0m\u001b[0ma\u001b[0m\u001b[0;34m)\u001b[0m\u001b[0;34m\u001b[0m\u001b[0m\n",
      "\u001b[0;31mNameError\u001b[0m: name 'np_pc' is not defined"
     ]
    }
   ],
   "source": [
    "a = load_ply(\"bathtub_0107.ply\")\n",
    "a = voxilize(np_pc)\n",
    "a = voxel_scatter(a)\n",
    "plot_trihedral_figure(a)"
   ]
  },
  {
   "cell_type": "code",
   "execution_count": null,
   "metadata": {},
   "outputs": [],
   "source": []
  }
 ],
 "metadata": {
  "kernelspec": {
   "display_name": "Python 3",
   "language": "python",
   "name": "python3"
  },
  "language_info": {
   "codemirror_mode": {
    "name": "ipython",
    "version": 3
   },
   "file_extension": ".py",
   "mimetype": "text/x-python",
   "name": "python",
   "nbconvert_exporter": "python",
   "pygments_lexer": "ipython3",
   "version": "3.6.5"
  }
 },
 "nbformat": 4,
 "nbformat_minor": 2
}
